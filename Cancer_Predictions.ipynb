{
 "cells": [
  {
   "cell_type": "markdown",
   "id": "a62fb104-b2dd-4ded-9cf1-adb8d20e1e17",
   "metadata": {},
   "source": [
    "#  Cancer Detection: Model Selection, Tuning, and Validation"
   ]
  },
  {
   "cell_type": "markdown",
   "id": "7e3f41e2-4af2-4d63-a783-fbc39c2700e8",
   "metadata": {},
   "source": [
    "## Task"
   ]
  },
  {
   "cell_type": "markdown",
   "id": "b8309e27-f6f3-4573-88a7-5c15289be55b",
   "metadata": {},
   "source": [
    "Perform a predictive modeling analysis on wdbc cancer dataset using the decision tree, k-NN techniques, logistic regression and SVM (explore how well model performs for several different hyper-parameter values). Present a brief overview of your predictive modeling process, explorations, and discuss your results.  Make sure you present information about the model “goodness” (possible things to think about: confusion matrix, predictive accuracy, precision, recall, f-measure). Briefly discuss ROC and lift curves. "
   ]
  },
  {
   "cell_type": "markdown",
   "id": "d926e2f5-95de-4dbd-97a0-b6c5cb8244c3",
   "metadata": {},
   "source": [
    "#### Process Overview"
   ]
  },
  {
   "cell_type": "markdown",
   "id": "249f6fe0-7598-4309-b99b-02f70bb049dc",
   "metadata": {},
   "source": [
    "We applied nested cross-validation to evaluate and select the best-performing classification model among k-Nearest Neighbors (k-NN), Logistic Regression, Decision Tree, and Support Vector Machine (SVM). The dataset was split into a 70/30 ratio, with 70% used for training and model selection (through cross-validation), and the remaining 30% held out for final performance evaluation.\n",
    "\n",
    "- Outer Cross-Validation (CV): The outer loop was used to estimate the generalization performance of each model. It mimics real-world model deployment by testing the model on unseen data in each fold.\n",
    "\n",
    "- Inner Cross-Validation (CV): The inner loop was used for hyperparameter tuning via grid search. Within each outer training fold, the inner CV identifies the best parameter settings that optimize a chosen scoring metric (recall, in our case).\n",
    "\n",
    "This two-layer approach helps prevent overfitting and ensures a more reliable estimate of each model's ability to generalize."
   ]
  },
  {
   "cell_type": "markdown",
   "id": "bbabe07b-7fb3-41e2-84d0-415b1cbc353d",
   "metadata": {},
   "source": [
    "## Load in Data"
   ]
  },
  {
   "cell_type": "code",
   "execution_count": 7,
   "id": "b0bdfbeb-5d42-46c4-b891-f3afdfe38579",
   "metadata": {},
   "outputs": [
    {
     "name": "stderr",
     "output_type": "stream",
     "text": [
      "C:\\Users\\olivi\\AppData\\Local\\Temp\\ipykernel_3164\\2258974304.py:17: FutureWarning: Downcasting behavior in `replace` is deprecated and will be removed in a future version. To retain the old behavior, explicitly call `result.infer_objects(copy=False)`. To opt-in to the future behavior, set `pd.set_option('future.no_silent_downcasting', True)`\n",
      "  wdbc['Diagnosis'] = wdbc['Diagnosis'].replace('B',0)\n"
     ]
    }
   ],
   "source": [
    "# Import necessary libraries\n",
    "import pandas as pd\n",
    "import numpy as np\n",
    "\n",
    "# Get headers from website and import through csv, create a list\n",
    "headers = pd.read_csv('variables.csv', header = None)\n",
    "h_list = headers.iloc[:, 0].tolist()\n",
    "\n",
    "# Import data with headers\n",
    "wdbc = pd.read_csv('wdbc.data', header= None, names= h_list, index_col = 0)\n",
    "\n",
    "# Change Diagnosis column to string\n",
    "wdbc['Diagnosis'] = wdbc['Diagnosis'].astype(str)\n",
    "\n",
    "# Encode Diagnosis: Malignant (M) = 1, Benign (B) = 0\n",
    "wdbc['Diagnosis'] = wdbc['Diagnosis'].replace('M',1)\n",
    "wdbc['Diagnosis'] = wdbc['Diagnosis'].replace('B',0)"
   ]
  },
  {
   "cell_type": "code",
   "execution_count": 8,
   "id": "965ceb60-f33c-48d9-95f4-09cbf96dd985",
   "metadata": {},
   "outputs": [
    {
     "data": {
      "text/html": [
       "<div>\n",
       "<style scoped>\n",
       "    .dataframe tbody tr th:only-of-type {\n",
       "        vertical-align: middle;\n",
       "    }\n",
       "\n",
       "    .dataframe tbody tr th {\n",
       "        vertical-align: top;\n",
       "    }\n",
       "\n",
       "    .dataframe thead th {\n",
       "        text-align: right;\n",
       "    }\n",
       "</style>\n",
       "<table border=\"1\" class=\"dataframe\">\n",
       "  <thead>\n",
       "    <tr style=\"text-align: right;\">\n",
       "      <th></th>\n",
       "      <th>Diagnosis</th>\n",
       "      <th>radius1</th>\n",
       "      <th>texture1</th>\n",
       "      <th>perimeter1</th>\n",
       "      <th>area1</th>\n",
       "      <th>smoothness1</th>\n",
       "      <th>compactness1</th>\n",
       "      <th>concavity1</th>\n",
       "      <th>concave_points1</th>\n",
       "      <th>symmetry1</th>\n",
       "      <th>...</th>\n",
       "      <th>radius3</th>\n",
       "      <th>texture3</th>\n",
       "      <th>perimeter3</th>\n",
       "      <th>area3</th>\n",
       "      <th>smoothness3</th>\n",
       "      <th>compactness3</th>\n",
       "      <th>concavity3</th>\n",
       "      <th>concave_points3</th>\n",
       "      <th>symmetry3</th>\n",
       "      <th>fractal_dimension3</th>\n",
       "    </tr>\n",
       "    <tr>\n",
       "      <th>ID</th>\n",
       "      <th></th>\n",
       "      <th></th>\n",
       "      <th></th>\n",
       "      <th></th>\n",
       "      <th></th>\n",
       "      <th></th>\n",
       "      <th></th>\n",
       "      <th></th>\n",
       "      <th></th>\n",
       "      <th></th>\n",
       "      <th></th>\n",
       "      <th></th>\n",
       "      <th></th>\n",
       "      <th></th>\n",
       "      <th></th>\n",
       "      <th></th>\n",
       "      <th></th>\n",
       "      <th></th>\n",
       "      <th></th>\n",
       "      <th></th>\n",
       "      <th></th>\n",
       "    </tr>\n",
       "  </thead>\n",
       "  <tbody>\n",
       "    <tr>\n",
       "      <th>842302</th>\n",
       "      <td>1</td>\n",
       "      <td>17.99</td>\n",
       "      <td>10.38</td>\n",
       "      <td>122.80</td>\n",
       "      <td>1001.0</td>\n",
       "      <td>0.11840</td>\n",
       "      <td>0.27760</td>\n",
       "      <td>0.3001</td>\n",
       "      <td>0.14710</td>\n",
       "      <td>0.2419</td>\n",
       "      <td>...</td>\n",
       "      <td>25.38</td>\n",
       "      <td>17.33</td>\n",
       "      <td>184.60</td>\n",
       "      <td>2019.0</td>\n",
       "      <td>0.1622</td>\n",
       "      <td>0.6656</td>\n",
       "      <td>0.7119</td>\n",
       "      <td>0.2654</td>\n",
       "      <td>0.4601</td>\n",
       "      <td>0.11890</td>\n",
       "    </tr>\n",
       "    <tr>\n",
       "      <th>842517</th>\n",
       "      <td>1</td>\n",
       "      <td>20.57</td>\n",
       "      <td>17.77</td>\n",
       "      <td>132.90</td>\n",
       "      <td>1326.0</td>\n",
       "      <td>0.08474</td>\n",
       "      <td>0.07864</td>\n",
       "      <td>0.0869</td>\n",
       "      <td>0.07017</td>\n",
       "      <td>0.1812</td>\n",
       "      <td>...</td>\n",
       "      <td>24.99</td>\n",
       "      <td>23.41</td>\n",
       "      <td>158.80</td>\n",
       "      <td>1956.0</td>\n",
       "      <td>0.1238</td>\n",
       "      <td>0.1866</td>\n",
       "      <td>0.2416</td>\n",
       "      <td>0.1860</td>\n",
       "      <td>0.2750</td>\n",
       "      <td>0.08902</td>\n",
       "    </tr>\n",
       "    <tr>\n",
       "      <th>84300903</th>\n",
       "      <td>1</td>\n",
       "      <td>19.69</td>\n",
       "      <td>21.25</td>\n",
       "      <td>130.00</td>\n",
       "      <td>1203.0</td>\n",
       "      <td>0.10960</td>\n",
       "      <td>0.15990</td>\n",
       "      <td>0.1974</td>\n",
       "      <td>0.12790</td>\n",
       "      <td>0.2069</td>\n",
       "      <td>...</td>\n",
       "      <td>23.57</td>\n",
       "      <td>25.53</td>\n",
       "      <td>152.50</td>\n",
       "      <td>1709.0</td>\n",
       "      <td>0.1444</td>\n",
       "      <td>0.4245</td>\n",
       "      <td>0.4504</td>\n",
       "      <td>0.2430</td>\n",
       "      <td>0.3613</td>\n",
       "      <td>0.08758</td>\n",
       "    </tr>\n",
       "    <tr>\n",
       "      <th>84348301</th>\n",
       "      <td>1</td>\n",
       "      <td>11.42</td>\n",
       "      <td>20.38</td>\n",
       "      <td>77.58</td>\n",
       "      <td>386.1</td>\n",
       "      <td>0.14250</td>\n",
       "      <td>0.28390</td>\n",
       "      <td>0.2414</td>\n",
       "      <td>0.10520</td>\n",
       "      <td>0.2597</td>\n",
       "      <td>...</td>\n",
       "      <td>14.91</td>\n",
       "      <td>26.50</td>\n",
       "      <td>98.87</td>\n",
       "      <td>567.7</td>\n",
       "      <td>0.2098</td>\n",
       "      <td>0.8663</td>\n",
       "      <td>0.6869</td>\n",
       "      <td>0.2575</td>\n",
       "      <td>0.6638</td>\n",
       "      <td>0.17300</td>\n",
       "    </tr>\n",
       "    <tr>\n",
       "      <th>84358402</th>\n",
       "      <td>1</td>\n",
       "      <td>20.29</td>\n",
       "      <td>14.34</td>\n",
       "      <td>135.10</td>\n",
       "      <td>1297.0</td>\n",
       "      <td>0.10030</td>\n",
       "      <td>0.13280</td>\n",
       "      <td>0.1980</td>\n",
       "      <td>0.10430</td>\n",
       "      <td>0.1809</td>\n",
       "      <td>...</td>\n",
       "      <td>22.54</td>\n",
       "      <td>16.67</td>\n",
       "      <td>152.20</td>\n",
       "      <td>1575.0</td>\n",
       "      <td>0.1374</td>\n",
       "      <td>0.2050</td>\n",
       "      <td>0.4000</td>\n",
       "      <td>0.1625</td>\n",
       "      <td>0.2364</td>\n",
       "      <td>0.07678</td>\n",
       "    </tr>\n",
       "  </tbody>\n",
       "</table>\n",
       "<p>5 rows × 31 columns</p>\n",
       "</div>"
      ],
      "text/plain": [
       "          Diagnosis  radius1  texture1  perimeter1   area1  smoothness1  \\\n",
       "ID                                                                        \n",
       "842302            1    17.99     10.38      122.80  1001.0      0.11840   \n",
       "842517            1    20.57     17.77      132.90  1326.0      0.08474   \n",
       "84300903          1    19.69     21.25      130.00  1203.0      0.10960   \n",
       "84348301          1    11.42     20.38       77.58   386.1      0.14250   \n",
       "84358402          1    20.29     14.34      135.10  1297.0      0.10030   \n",
       "\n",
       "          compactness1  concavity1  concave_points1  symmetry1  ...  radius3  \\\n",
       "ID                                                              ...            \n",
       "842302         0.27760      0.3001          0.14710     0.2419  ...    25.38   \n",
       "842517         0.07864      0.0869          0.07017     0.1812  ...    24.99   \n",
       "84300903       0.15990      0.1974          0.12790     0.2069  ...    23.57   \n",
       "84348301       0.28390      0.2414          0.10520     0.2597  ...    14.91   \n",
       "84358402       0.13280      0.1980          0.10430     0.1809  ...    22.54   \n",
       "\n",
       "          texture3  perimeter3   area3  smoothness3  compactness3  concavity3  \\\n",
       "ID                                                                              \n",
       "842302       17.33      184.60  2019.0       0.1622        0.6656      0.7119   \n",
       "842517       23.41      158.80  1956.0       0.1238        0.1866      0.2416   \n",
       "84300903     25.53      152.50  1709.0       0.1444        0.4245      0.4504   \n",
       "84348301     26.50       98.87   567.7       0.2098        0.8663      0.6869   \n",
       "84358402     16.67      152.20  1575.0       0.1374        0.2050      0.4000   \n",
       "\n",
       "          concave_points3  symmetry3  fractal_dimension3  \n",
       "ID                                                        \n",
       "842302             0.2654     0.4601             0.11890  \n",
       "842517             0.1860     0.2750             0.08902  \n",
       "84300903           0.2430     0.3613             0.08758  \n",
       "84348301           0.2575     0.6638             0.17300  \n",
       "84358402           0.1625     0.2364             0.07678  \n",
       "\n",
       "[5 rows x 31 columns]"
      ]
     },
     "execution_count": 8,
     "metadata": {},
     "output_type": "execute_result"
    }
   ],
   "source": [
    "# View the dataset\n",
    "wdbc.head()"
   ]
  },
  {
   "cell_type": "code",
   "execution_count": 9,
   "id": "b00ce4e0-ffa2-49c1-8662-78830b5e02a4",
   "metadata": {},
   "outputs": [],
   "source": [
    "# Separate features (X) and target variable (y)\n",
    "X = wdbc.iloc[:,1:31] \n",
    "y = wdbc['Diagnosis']"
   ]
  },
  {
   "cell_type": "markdown",
   "id": "1ffb7b3b-ff63-4f5b-913d-74dea2bb8ccd",
   "metadata": {},
   "source": [
    "## Set Up"
   ]
  },
  {
   "cell_type": "code",
   "execution_count": 11,
   "id": "7b30490c-6815-4ae4-99fa-7931d8f437c2",
   "metadata": {},
   "outputs": [],
   "source": [
    "# Import libraries and packages\n",
    "import pandas as pd\n",
    "from sklearn.model_selection import train_test_split\n",
    "from sklearn.preprocessing import StandardScaler\n",
    "from sklearn.model_selection import StratifiedKFold, cross_val_score, GridSearchCV\n",
    "from sklearn.metrics import make_scorer\n",
    "from sklearn.pipeline import Pipeline\n",
    "from sklearn.metrics import accuracy_score, classification_report, confusion_matrix, recall_score, precision_score, f1_score\n",
    "from sklearn.metrics import roc_curve, auc, confusion_matrix, ConfusionMatrixDisplay\n",
    "from sklearn.metrics import roc_auc_score\n",
    "\n",
    "from sklearn.tree import DecisionTreeClassifier\n",
    "from sklearn.neighbors import KNeighborsClassifier\n",
    "from sklearn.linear_model import LogisticRegression\n",
    "from sklearn.svm import SVC\n",
    "\n",
    "import seaborn as sns\n",
    "import matplotlib.pyplot as plt\n",
    "\n",
    "import warnings\n",
    "warnings.filterwarnings('ignore')"
   ]
  },
  {
   "cell_type": "code",
   "execution_count": 12,
   "id": "70b49ff3-1dc7-445d-b334-4c53f317adf1",
   "metadata": {},
   "outputs": [],
   "source": [
    "# Split the data into training (70%) and testing (30%) sets\n",
    "# Only give CV 70% of the data and save 30% to hold out on final tuning and test after CV\n",
    "X_train_cv, X_test_cv, y_train_cv, y_test_cv = train_test_split(X, y, test_size=0.3, random_state=42)"
   ]
  },
  {
   "cell_type": "markdown",
   "id": "2d2d5557-e6c1-4f21-8a4c-492e9adf2f51",
   "metadata": {},
   "source": [
    "## Run Nested CV on Models"
   ]
  },
  {
   "cell_type": "code",
   "execution_count": 14,
   "id": "e99cbea0-9443-4686-9522-a611fb1e858e",
   "metadata": {},
   "outputs": [],
   "source": [
    "# Create nested cv classifcation function to call later\n",
    "def nested_cv(model_pipeline, param_grid, X_train, y_train, outer_splits=5, inner_splits=5):\n",
    "\n",
    "    # Define outer CV for model performance\n",
    "    outer_cv = StratifiedKFold(n_splits= outer_splits, shuffle=True, random_state=42)\n",
    "\n",
    "    # Set lists for scores to append later\n",
    "    accuracy_scores, recall_scores, precision_scores , f1_scores = [], [], [], []\n",
    "\n",
    "    for train_idx, test_idx in outer_cv.split(X_train, y_train):\n",
    "        # Split outer train/test data\n",
    "        X_train_fold, X_test_fold = X_train.iloc[train_idx], X_train.iloc[test_idx]\n",
    "        y_train_fold, y_test_fold = y_train.iloc[train_idx], y_train.iloc[test_idx]\n",
    "\n",
    "        # Inner CV for hyperparameter tuning\n",
    "        inner_cv = StratifiedKFold(n_splits=inner_splits, shuffle=True, random_state=42)\n",
    "\n",
    "        # GridSearchCV for tuning\n",
    "        grid_search = GridSearchCV(model_pipeline, param_grid, cv=inner_cv, scoring='recall', refit=True)\n",
    "        grid_search.fit(X_train_fold, y_train_fold)\n",
    "\n",
    "        # Best model from inner loop\n",
    "        best_model = grid_search.best_estimator_\n",
    "\n",
    "        # Predict on outer test set\n",
    "        y_pred = best_model.predict(X_test_fold)\n",
    "\n",
    "        # Calculate different performance metrics\n",
    "        accuracy = accuracy_score(y_test_fold, y_pred)\n",
    "        recall = recall_score(y_test_fold, y_pred)\n",
    "        precision = precision_score(y_test_fold, y_pred)\n",
    "        f1 = f1_score(y_test_fold, y_pred)\n",
    "\n",
    "        # Append scores for each fold\n",
    "        accuracy_scores.append(accuracy)\n",
    "        recall_scores.append(recall)\n",
    "        precision_scores.append(precision)\n",
    "        f1_scores.append(f1)\n",
    "\n",
    "    # Return mean metrics across outer folds\n",
    "    return {\n",
    "        'Nested CV Accuracy': float(np.mean(accuracy_scores)),\n",
    "        'Nested CV Recall': float(np.mean(recall_scores)),\n",
    "        'Nested CV Precision': float(np.mean(precision_scores)),\n",
    "        'Nested CV F1 Score': float(np.mean(f1_scores))\n",
    "    }"
   ]
  },
  {
   "cell_type": "markdown",
   "id": "7adefce7-05e0-4e5d-810b-201b00bd5987",
   "metadata": {},
   "source": [
    "### KNN"
   ]
  },
  {
   "cell_type": "code",
   "execution_count": 16,
   "id": "233d9af8-228e-4102-a648-f4b4f14a8036",
   "metadata": {},
   "outputs": [
    {
     "name": "stderr",
     "output_type": "stream",
     "text": [
      "  File \"C:\\Users\\olivi\\anaconda3\\Lib\\site-packages\\joblib\\externals\\loky\\backend\\context.py\", line 257, in _count_physical_cores\n",
      "    cpu_info = subprocess.run(\n",
      "               ^^^^^^^^^^^^^^^\n",
      "  File \"C:\\Users\\olivi\\anaconda3\\Lib\\subprocess.py\", line 548, in run\n",
      "    with Popen(*popenargs, **kwargs) as process:\n",
      "         ^^^^^^^^^^^^^^^^^^^^^^^^^^^\n",
      "  File \"C:\\Users\\olivi\\anaconda3\\Lib\\subprocess.py\", line 1026, in __init__\n",
      "    self._execute_child(args, executable, preexec_fn, close_fds,\n",
      "  File \"C:\\Users\\olivi\\anaconda3\\Lib\\subprocess.py\", line 1538, in _execute_child\n",
      "    hp, ht, pid, tid = _winapi.CreateProcess(executable, args,\n",
      "                       ^^^^^^^^^^^^^^^^^^^^^^^^^^^^^^^^^^^^^^^\n"
     ]
    },
    {
     "name": "stdout",
     "output_type": "stream",
     "text": [
      "{'Nested CV Accuracy': 0.9523417721518987, 'Nested CV Recall': 0.9064367816091956, 'Nested CV Precision': 0.9655172413793103, 'Nested CV F1 Score': 0.9335930904604195}\n"
     ]
    }
   ],
   "source": [
    "# Create pipelines with normalization (scaling) and models\n",
    "# Define the model\n",
    "model_knn = KNeighborsClassifier()\n",
    "\n",
    "# Create a pipeline with normalization and the model\n",
    "pipeline_knn = Pipeline([\n",
    "    ('scaler', StandardScaler()),  # Normalize data\n",
    "    ('KNN', model_knn)  # KNN classifier\n",
    "])\n",
    "\n",
    "# Define the parameter grid for hyperparameter tuning (inner loop)\n",
    "param_grid_knn = {\n",
    "    'KNN__n_neighbors': [5, 7, 10, 15],\n",
    "    'KNN__metric': ['euclidean', 'manhattan'],  # The correct way to pass parameters for KNN\n",
    "    'KNN__weights': ['uniform', 'distance']\n",
    "}\n",
    "\n",
    "results_knn = nested_cv(pipeline_knn, param_grid_knn, X_train_cv, y_train_cv)\n",
    "print(results_knn)"
   ]
  },
  {
   "cell_type": "markdown",
   "id": "5bdfebe4-d978-44b3-94d7-d7c65288fe0c",
   "metadata": {},
   "source": [
    "### Decision Tree"
   ]
  },
  {
   "cell_type": "code",
   "execution_count": 18,
   "id": "e2bdc8f2-7391-4a1c-9982-1a5938cf5690",
   "metadata": {},
   "outputs": [
    {
     "name": "stdout",
     "output_type": "stream",
     "text": [
      "{'Nested CV Accuracy': 0.9347468354430379, 'Nested CV Recall': 0.9128735632183907, 'Nested CV Precision': 0.9144292118708137, 'Nested CV F1 Score': 0.9127692984109037}\n"
     ]
    }
   ],
   "source": [
    "# Create pipelines with normalization (scaling) and models\n",
    "# Define the model\n",
    "model_dt = DecisionTreeClassifier()\n",
    "\n",
    "# Create a pipeline with the model, no need to normalize on DT\n",
    "pipeline_dt= Pipeline([\n",
    "    ('DecisionTree', model_dt)  # Dt classifier\n",
    "])\n",
    "\n",
    "# Set parameter grid\n",
    "param_grid_dt = {'DecisionTree__max_depth': [5, 10 ,15], \n",
    "                 'DecisionTree__min_samples_split': [4, 6, 8, 10],\n",
    "                 'DecisionTree__criterion': ['gini', 'entropy']}\n",
    "\n",
    "# Call nested cv function\n",
    "results_dt = nested_cv(pipeline_dt, param_grid_dt, X_train_cv, y_train_cv)\n",
    "print(results_dt)"
   ]
  },
  {
   "cell_type": "markdown",
   "id": "6444d456-4219-4bc1-a046-ee4de94bd135",
   "metadata": {},
   "source": [
    "### Logistic Regression"
   ]
  },
  {
   "cell_type": "code",
   "execution_count": 20,
   "id": "56f4c873-64ef-4579-9bbf-c5af013567a8",
   "metadata": {},
   "outputs": [
    {
     "name": "stdout",
     "output_type": "stream",
     "text": [
      "{'Nested CV Accuracy': 0.9598417721518988, 'Nested CV Recall': 0.9466666666666667, 'Nested CV Precision': 0.9495967741935484, 'Nested CV F1 Score': 0.9464742501414827}\n"
     ]
    }
   ],
   "source": [
    "# Create pipelines with normalization (scaling) and models\n",
    "# Define the model\n",
    "model_log = LogisticRegression()\n",
    "\n",
    "# Create a pipeline with the model\n",
    "pipeline_LR= Pipeline([\n",
    "    ('scaler', StandardScaler()),    # Normalization\n",
    "    ('LR', model_log)  # LR classifier\n",
    "])\n",
    "\n",
    "# Set parameter grid search\n",
    "param_grid_LR = {'LR__C': [0.01, 0.1, 1, 10, 100], \n",
    "                 'LR__penalty': ['l1', 'l2'], \n",
    "                 'LR__solver': ['liblinear']}\n",
    "\n",
    "results_LR = nested_cv(pipeline_LR, param_grid_LR, X_train_cv, y_train_cv)\n",
    "print(results_LR)"
   ]
  },
  {
   "cell_type": "markdown",
   "id": "d9495b87-66e6-458c-b0c3-93b80e0680c7",
   "metadata": {},
   "source": [
    "### SVM"
   ]
  },
  {
   "cell_type": "code",
   "execution_count": 22,
   "id": "b2b47bc8-e1b6-448c-ba77-60e9600ff6a8",
   "metadata": {},
   "outputs": [
    {
     "name": "stdout",
     "output_type": "stream",
     "text": [
      "{'Nested CV Accuracy': 0.9623417721518986, 'Nested CV Recall': 0.9533333333333334, 'Nested CV Precision': 0.9477976190476192, 'Nested CV F1 Score': 0.9496691238852962}\n"
     ]
    }
   ],
   "source": [
    "# Create pipelines with normalization (scaling) and models\n",
    "# Define the model\n",
    "model_svm = SVC()\n",
    "\n",
    "# Create a pipeline with the model\n",
    "pipeline_svm= Pipeline([\n",
    "    ('scaler', StandardScaler()),  # Normalize data\n",
    "    ('SVM', model_svm)  # SVM classifier\n",
    "])\n",
    "\n",
    "# Define the parameter grid for hyperparameter tuning\n",
    "param_grid_svm = {\n",
    "    'SVM__C': [0.01, 0.1, 1, 10, 100],   # Regularization strength\n",
    "    'SVM__kernel': ['linear', 'rbf', 'poly'],  # Type of kernel to use\n",
    "    'SVM__gamma': ['scale', 'auto', 0.1, 1, 10]  # Kernel coefficient\n",
    "}\n",
    "\n",
    "# Call nested CV function for results\n",
    "results_svm = nested_cv(pipeline_svm, param_grid_svm, X_train_cv, y_train_cv)\n",
    "print(results_svm)"
   ]
  },
  {
   "cell_type": "markdown",
   "id": "a4ec013d-f9bb-4ccd-9405-384e490d124d",
   "metadata": {},
   "source": [
    "## Model Summary"
   ]
  },
  {
   "cell_type": "code",
   "execution_count": 24,
   "id": "019945a2-a598-4595-aaec-d26af3a8934a",
   "metadata": {},
   "outputs": [
    {
     "name": "stdout",
     "output_type": "stream",
     "text": [
      "Running nested CV for Decision Tree...\n",
      "Running nested CV for Logistic Regression...\n",
      "Running nested CV for KNN...\n",
      "Running nested CV for SVM...\n"
     ]
    },
    {
     "data": {
      "text/html": [
       "<style type=\"text/css\">\n",
       "#T_ab894_row2_col3, #T_ab894_row3_col1, #T_ab894_row3_col2, #T_ab894_row3_col4 {\n",
       "  background-color: lightgreen;\n",
       "}\n",
       "</style>\n",
       "<table id=\"T_ab894\">\n",
       "  <thead>\n",
       "    <tr>\n",
       "      <th class=\"blank level0\" >&nbsp;</th>\n",
       "      <th id=\"T_ab894_level0_col0\" class=\"col_heading level0 col0\" >Model</th>\n",
       "      <th id=\"T_ab894_level0_col1\" class=\"col_heading level0 col1\" >Nested CV Accuracy</th>\n",
       "      <th id=\"T_ab894_level0_col2\" class=\"col_heading level0 col2\" >Nested CV Recall</th>\n",
       "      <th id=\"T_ab894_level0_col3\" class=\"col_heading level0 col3\" >Nested CV Precision</th>\n",
       "      <th id=\"T_ab894_level0_col4\" class=\"col_heading level0 col4\" >Nested CV F1 Score</th>\n",
       "    </tr>\n",
       "  </thead>\n",
       "  <tbody>\n",
       "    <tr>\n",
       "      <th id=\"T_ab894_level0_row0\" class=\"row_heading level0 row0\" >0</th>\n",
       "      <td id=\"T_ab894_row0_col0\" class=\"data row0 col0\" >Decision Tree</td>\n",
       "      <td id=\"T_ab894_row0_col1\" class=\"data row0 col1\" >0.932247</td>\n",
       "      <td id=\"T_ab894_row0_col2\" class=\"data row0 col2\" >0.912874</td>\n",
       "      <td id=\"T_ab894_row0_col3\" class=\"data row0 col3\" >0.907445</td>\n",
       "      <td id=\"T_ab894_row0_col4\" class=\"data row0 col4\" >0.909236</td>\n",
       "    </tr>\n",
       "    <tr>\n",
       "      <th id=\"T_ab894_level0_row1\" class=\"row_heading level0 row1\" >1</th>\n",
       "      <td id=\"T_ab894_row1_col0\" class=\"data row1 col0\" >Logistic Regression</td>\n",
       "      <td id=\"T_ab894_row1_col1\" class=\"data row1 col1\" >0.959842</td>\n",
       "      <td id=\"T_ab894_row1_col2\" class=\"data row1 col2\" >0.946667</td>\n",
       "      <td id=\"T_ab894_row1_col3\" class=\"data row1 col3\" >0.949597</td>\n",
       "      <td id=\"T_ab894_row1_col4\" class=\"data row1 col4\" >0.946474</td>\n",
       "    </tr>\n",
       "    <tr>\n",
       "      <th id=\"T_ab894_level0_row2\" class=\"row_heading level0 row2\" >2</th>\n",
       "      <td id=\"T_ab894_row2_col0\" class=\"data row2 col0\" >KNN</td>\n",
       "      <td id=\"T_ab894_row2_col1\" class=\"data row2 col1\" >0.952342</td>\n",
       "      <td id=\"T_ab894_row2_col2\" class=\"data row2 col2\" >0.906437</td>\n",
       "      <td id=\"T_ab894_row2_col3\" class=\"data row2 col3\" >0.965517</td>\n",
       "      <td id=\"T_ab894_row2_col4\" class=\"data row2 col4\" >0.933593</td>\n",
       "    </tr>\n",
       "    <tr>\n",
       "      <th id=\"T_ab894_level0_row3\" class=\"row_heading level0 row3\" >3</th>\n",
       "      <td id=\"T_ab894_row3_col0\" class=\"data row3 col0\" >SVM</td>\n",
       "      <td id=\"T_ab894_row3_col1\" class=\"data row3 col1\" >0.962342</td>\n",
       "      <td id=\"T_ab894_row3_col2\" class=\"data row3 col2\" >0.953333</td>\n",
       "      <td id=\"T_ab894_row3_col3\" class=\"data row3 col3\" >0.947798</td>\n",
       "      <td id=\"T_ab894_row3_col4\" class=\"data row3 col4\" >0.949669</td>\n",
       "    </tr>\n",
       "  </tbody>\n",
       "</table>\n"
      ],
      "text/plain": [
       "<pandas.io.formats.style.Styler at 0x220ea732330>"
      ]
     },
     "execution_count": 24,
     "metadata": {},
     "output_type": "execute_result"
    }
   ],
   "source": [
    "import pandas as pd\n",
    "\n",
    "# Placeholder to store results\n",
    "model_results = []\n",
    "\n",
    "# Run all models to get comparitive scores\n",
    "models = {\n",
    "    'Decision Tree': (pipeline_dt, param_grid_dt),\n",
    "    'Logistic Regression': (pipeline_LR, param_grid_LR),\n",
    "    'KNN': (pipeline_knn, param_grid_knn),\n",
    "    'SVM': (pipeline_svm, param_grid_svm)\n",
    "}\n",
    "\n",
    "# Loop through models and run nested CV\n",
    "for model_name, (pipeline, param_grid) in models.items():\n",
    "    print(f\"Running nested CV for {model_name}...\")\n",
    "    scores = nested_cv(pipeline, param_grid, X_train_cv, y_train_cv)\n",
    "    scores['Model'] = model_name\n",
    "    model_results.append(scores)\n",
    "\n",
    "# Convert to DataFrame\n",
    "results_df = pd.DataFrame(model_results)\n",
    "\n",
    "# Reorder columns\n",
    "results_df = results_df[['Model', 'Nested CV Accuracy', 'Nested CV Recall', 'Nested CV Precision', 'Nested CV F1 Score']]\n",
    "\n",
    "# Create a readable chart for easy analysis\n",
    "def highlight_max(s):\n",
    "    is_max = s == s.max()\n",
    "    return ['background-color: lightgreen' if v else '' for v in is_max]\n",
    "\n",
    "# Apply highlighting to score columns only\n",
    "styled_results = results_df.style.apply(highlight_max, subset=[\n",
    "    'Nested CV Accuracy', \n",
    "    'Nested CV Recall', \n",
    "    'Nested CV Precision', \n",
    "    'Nested CV F1 Score'\n",
    "])\n",
    "\n",
    "# Display the styled table (works in Jupyter/Notebook)\n",
    "styled_results"
   ]
  },
  {
   "cell_type": "markdown",
   "id": "91b7447f-7949-448e-8ee4-d67655ce60be",
   "metadata": {},
   "source": [
    "#### Summary"
   ]
  },
  {
   "cell_type": "markdown",
   "id": "ffcd976b-944d-44f4-a754-3b836ab2866e",
   "metadata": {},
   "source": [
    "From our nested cross-validation results, the Support Vector Machine (SVM) emerged as the top-performing model. It achieved the highest scores in F1 measure, recall, and accuracy, reflecting a strong balance between sensitivity and overall performance. While the K-Nearest Neighbors (KNN) model showed slightly higher precision, SVM placed a close third and outperformed in more clinically relevant metrics. In cancer prediction, recall is especially important — missing a positive case (i.e., failing to detect cancer when it is present) can have severe consequences. Therefore, we prioritize recall to ensure the model captures as many true positive cases as possible, even if it means accepting a slightly higher false positive rate."
   ]
  },
  {
   "cell_type": "markdown",
   "id": "a50136e4-3935-4691-bfd1-2e144864b6a6",
   "metadata": {},
   "source": [
    "## Final Model Selection"
   ]
  },
  {
   "cell_type": "markdown",
   "id": "eb404f93-1ed8-4947-a1d0-06f1ff3cd2a8",
   "metadata": {},
   "source": [
    "Based on the results of nested cross-validation, the Support Vector Machine (SVM) was identified as the most promising candidate model. To finalize this selection, we perform a more focused hyperparameter tuning using GridSearchCV on the entire training dataset. This step allows us to make full use of the available training data and refine the model’s configuration for optimal performance.\n",
    "\n",
    "After identifying the best SVM configuration, we retrain the model on the complete training set using the optimal hyperparameters. The final evaluation is conducted on a previously unseen holdout test set to provide an unbiased estimate of generalization performance.\n",
    "\n",
    "This two-phase approach — model selection via nested cross-validation, followed by final tuning and evaluation — ensures both methodological rigor and practical reliability."
   ]
  },
  {
   "cell_type": "markdown",
   "id": "90716b70-5ad4-48ea-bb8e-90e133d0256d",
   "metadata": {},
   "source": [
    "## Final Hyperparameter tuning"
   ]
  },
  {
   "cell_type": "code",
   "execution_count": 30,
   "id": "c51ea35f-11b5-4759-bc2d-44434dfd2aff",
   "metadata": {},
   "outputs": [
    {
     "name": "stdout",
     "output_type": "stream",
     "text": [
      "Best Hyperparameters: {'SVM__C': 0.5, 'SVM__class_weight': 'balanced', 'SVM__gamma': 0.1, 'SVM__kernel': 'rbf'}\n",
      "Final Model Performance on Test Set:\n",
      "Accuracy: 0.9298\n",
      "Recall: 0.9683\n",
      "Precision: 0.8592\n",
      "F1 Score: 0.9104\n"
     ]
    }
   ],
   "source": [
    "# Define Model, this time set probability to true for AUC\n",
    "model_svm = SVC(probability=True)\n",
    "\n",
    "# Create a pipeline with the model\n",
    "pipeline_svm= Pipeline([\n",
    "    ('scaler', StandardScaler()),  # Normalize data\n",
    "    ('SVM', model_svm)  # SVM classifier\n",
    "])\n",
    "\n",
    "# Define the parameter grid for hyperparameter tuning\n",
    "param_grid_svm = {\n",
    "    'SVM__C': [0.1, 0.5, 1, 2, 5, 10],   # Refine Regularization strength\n",
    "    'SVM__kernel': ['linear', 'rbf', 'poly'],  # Type of kernel to use\n",
    "    'SVM__gamma': ['scale', 'auto', 0.1, 1, 10],  # Kernel coefficient\n",
    "    'SVM__class_weight': [None, 'balanced'] # Add more parameters for imbalanced classes\n",
    "}\n",
    "\n",
    "# Create the GridSearchCV with the entire training set (without splitting into inner CV)\n",
    "grid_search_svm = GridSearchCV(estimator=pipeline_svm, # Use same pipeline from prior run\n",
    "                               param_grid=param_grid_svm, \n",
    "                               cv=3,  # use a small CV here, because you're now training on the full training set\n",
    "                               scoring='recall',  # focus on recall metrics\n",
    "                               refit=True)\n",
    "\n",
    "# Fit the grid search to the full training data (this includes hyperparameter tuning)\n",
    "grid_search_svm.fit(X_train_cv, y_train_cv)\n",
    "\n",
    "# Now, we can extract the best model after grid search\n",
    "best_svm_model = grid_search_svm.best_estimator_\n",
    "\n",
    "# Final evaluation of the model on the test set\n",
    "y_pred_final = best_svm_model.predict(X_test_cv)\n",
    "accuracy_final = best_svm_model.score(X_test_cv, y_test_cv)\n",
    "recall_final = recall_score(y_test_cv, y_pred_final)\n",
    "precision_final = precision_score(y_test_cv, y_pred_final)\n",
    "f1_final = f1_score(y_test_cv, y_pred_final)\n",
    "\n",
    "# Print out the best hyperparameters used\n",
    "print(f'Best Hyperparameters: {grid_search_svm.best_params_}')\n",
    "\n",
    "# Print metrics\n",
    "print(f'Final Model Performance on Test Set:')\n",
    "print(f'Accuracy: {accuracy_final:.4f}')\n",
    "print(f'Recall: {recall_final:.4f}')\n",
    "print(f'Precision: {precision_final:.4f}')\n",
    "print(f'F1 Score: {f1_final:.4f}')"
   ]
  },
  {
   "cell_type": "markdown",
   "id": "75aa4640-a98e-4d3a-8228-467f4487b93a",
   "metadata": {},
   "source": [
    "### SVM Summary "
   ]
  },
  {
   "cell_type": "markdown",
   "id": "eec2fd99-1de3-4f35-9974-fd24b7ec598e",
   "metadata": {},
   "source": [
    "The finalized Support Vector Machine (SVM) model was configured with the following hyperparameters: \n",
    "- C = 0.5\n",
    "- Kernel = rbf\n",
    "- Gamma = 0.1\n",
    "- Class_weight = balanced\n",
    "\n",
    "This setup strikes a balance between model complexity and generalization, while the 'balanced' class weight compensates for any class imbalance by adjusting the penalty for misclassified malignant cases.  A lower C value (0.5) means the model prioritizes simplicity (i.e., a larger margin) over perfectly fitting every training point - meaning it generalizes well. A moderate gamma value (γ = 0.1) allows the SVM to create smooth, generalizable decision boundaries by balancing sensitivity to nearby points with influence from moderately distant ones. \n",
    "\n",
    "On the holdout test set, the model achieved strong performance:\n",
    "\n",
    "- Accuracy: 92.98% — overall, the model makes correct predictions nearly 93% of the time.\n",
    "- Recall: 96.83% — the model successfully identifies nearly all malignant cases, minimizing false negatives.\n",
    "- Precision: 85.92% — among the predicted malignant cases, ~86% were correctly classified.\n",
    "- F1 Score: 91.04% — the harmonic mean of precision and recall indicates strong balance between detecting and correctly classifying positive cases.\n",
    "\n",
    "These results confirm that the final model is both sensitive and reliable, making it well-suited for high-stakes applications like cancer prediction."
   ]
  },
  {
   "cell_type": "markdown",
   "id": "22e8a0db-bdab-46bb-b7a9-0aa864dba64c",
   "metadata": {},
   "source": [
    "### Confusion Matrix"
   ]
  },
  {
   "cell_type": "code",
   "execution_count": 34,
   "id": "80d99741-2598-497f-8760-0c89766b7a0e",
   "metadata": {},
   "outputs": [
    {
     "data": {
      "text/plain": [
       "<sklearn.metrics._plot.confusion_matrix.ConfusionMatrixDisplay at 0x220ea925eb0>"
      ]
     },
     "execution_count": 34,
     "metadata": {},
     "output_type": "execute_result"
    },
    {
     "data": {
      "image/png": "[encoded data removed]",
      "text/plain": [
       "<Figure size 640x480 with 2 Axes>"
      ]
     },
     "metadata": {},
     "output_type": "display_data"
    }
   ],
   "source": [
    "# Confusion Matrix\n",
    "cm = confusion_matrix(y_test_cv, y_pred_final)\n",
    "cm_display = ConfusionMatrixDisplay(confusion_matrix=cm, display_labels=best_svm_model.classes_)\n",
    "cm_display.plot(cmap='Blues')"
   ]
  },
  {
   "cell_type": "markdown",
   "id": "229a0c9a-ca71-4026-9e82-3d2c8ba832b2",
   "metadata": {},
   "source": [
    "### Confusion Matrix Interpretation"
   ]
  },
  {
   "cell_type": "markdown",
   "id": "937bfa94-de33-402a-807a-115135164d24",
   "metadata": {},
   "source": [
    "The confusion matrix shows that out of the 63 malignant cases in the test set, the model correctly identified 61 of them, resulting in a recall (sensitivity) of 96.83%. Only 2 malignant cases were misclassified as benign, representing false negatives — the most critical type of error in cancer prediction.\n",
    "\n",
    "This low false negative rate is especially important in clinical contexts, as failing to detect a malignant tumor could delay treatment and lead to severe consequences. The high recall indicates that the model is highly sensitive and effective at flagging potentially dangerous cases."
   ]
  },
  {
   "cell_type": "markdown",
   "id": "3da5c1d8-b6b6-4f3e-81cb-6fb5d059bef5",
   "metadata": {},
   "source": [
    "### ROC and AUC"
   ]
  },
  {
   "cell_type": "code",
   "execution_count": 38,
   "id": "33837372-ee04-4275-958e-fb2783604c87",
   "metadata": {},
   "outputs": [
    {
     "data": {
      "image/png": "[encoded data removed]",
      "text/plain": [
       "<Figure size 800x600 with 1 Axes>"
      ]
     },
     "metadata": {},
     "output_type": "display_data"
    }
   ],
   "source": [
    "# Import necessary libraries for ROC curve\n",
    "from sklearn.metrics import roc_curve, auc\n",
    "import matplotlib.pyplot as plt\n",
    "\n",
    "# Get predicted probabilities for the positive class (1) from the SVM model\n",
    "y_pred_prob = best_svm_model.predict_proba(X_test_cv)[:, 1]  # Get probabilities for the positive class\n",
    "\n",
    "# ROC Curve\n",
    "fpr, tpr, _ = roc_curve(y_test_cv, y_pred_prob)\n",
    "roc_auc = auc(fpr, tpr)\n",
    "plt.figure(figsize=(8, 6))\n",
    "plt.plot(fpr, tpr, color=\"blue\", lw=2, label=f\"ROC curve (area = {roc_auc:.2f})\")\n",
    "plt.plot([0, 1], [0, 1], color=\"gray\", linestyle=\"--\")\n",
    "plt.xlim([0.0, 1.0])\n",
    "plt.ylim([0.0, 1.05])\n",
    "plt.xlabel(\"False Positive Rate\")\n",
    "plt.ylabel(\"True Positive Rate\")\n",
    "plt.title(\"Receiver Operating Characteristic (ROC) Curve\")\n",
    "plt.legend(loc=\"lower right\")\n",
    "plt.show()\n",
    "\n",
    "sorted_indices = np.argsort(y_pred_prob)[::-1]\n",
    "sorted_probs = y_pred_prob[sorted_indices]\n",
    "sorted_true = y_test_cv.iloc[sorted_indices]"
   ]
  },
  {
   "cell_type": "markdown",
   "id": "3bb15b63-8d18-4104-b478-b8797fb4efbc",
   "metadata": {},
   "source": [
    "### ROC Curve Interpretation"
   ]
  },
  {
   "cell_type": "markdown",
   "id": "753f5f8a-3df7-45a1-be70-8bc9549c96f1",
   "metadata": {},
   "source": [
    "The ROC curve closely hugs the upper-left corner, indicating strong classification performance. The Area Under the Curve (AUC) score of 0.99 suggests that the model can almost perfectly distinguish between the positive and negative classes (meaning it can differntiate between malignant and benign cells).\n",
    "- A model with AUC = 1.0 is a perfect classifier, while AUC = 0.5 means the model is no better than a coin toss - a random guess\n",
    "- Testing AUC = 0.99, the model has very strong predictive power\n",
    "- Below, you will see a training AUC of 0.9980 - which aligns closely with the test performance, suggesting that the model generalizes well and is not overfitting"
   ]
  },
  {
   "cell_type": "code",
   "execution_count": 41,
   "id": "6d329748-eb88-4534-818f-973b81dd50fc",
   "metadata": {},
   "outputs": [
    {
     "name": "stdout",
     "output_type": "stream",
     "text": [
      "Training AUC Score: 0.9980\n"
     ]
    }
   ],
   "source": [
    "# Check training AUC to ensure there is no overfitting\n",
    "# Get predicted probabilities for the positive class (1) from the best SVM model on the training set\n",
    "y_train_pred_prob = best_svm_model.predict_proba(X_train_cv)[:, 1]  # Get probabilities for the positive class\n",
    "\n",
    "# Compute ROC curve for training set\n",
    "fpr_train, tpr_train, thresholds_train = roc_curve(y_train_cv, y_train_pred_prob)\n",
    "\n",
    "# Compute AUC (Area Under the Curve) for training set\n",
    "roc_auc_train = auc(fpr_train, tpr_train)\n",
    "\n",
    "# Print the AUC score for the training set\n",
    "print(f\"Training AUC Score: {roc_auc_train:.4f}\")"
   ]
  },
  {
   "cell_type": "markdown",
   "id": "559f3624-007b-4fac-81c2-be5e3f40620a",
   "metadata": {},
   "source": [
    "### Lift Curve"
   ]
  },
  {
   "cell_type": "code",
   "execution_count": 43,
   "id": "225c7cc6-3bdc-4aa2-a4e9-64b35e7532cf",
   "metadata": {},
   "outputs": [
    {
     "data": {
      "image/png": "[encoded data removed]",
      "text/plain": [
       "<Figure size 1000x600 with 1 Axes>"
      ]
     },
     "metadata": {},
     "output_type": "display_data"
    }
   ],
   "source": [
    "# Calculate cumulative lift\n",
    "cumulative_true_positive_rate = np.cumsum(sorted_true) / np.sum(sorted_true)\n",
    "cumulative_all_positive_rate = np.arange(1, len(y_pred_prob) + 1) / len(y_pred_prob)\n",
    "\n",
    "# Calculate lift (cumulative true positive rate / cumulative all positive rate)\n",
    "lift = cumulative_true_positive_rate / cumulative_all_positive_rate\n",
    "\n",
    "# Plot Lift Curve\n",
    "plt.figure(figsize=(10, 6))\n",
    "plt.plot(cumulative_all_positive_rate, lift, color=\"g\")\n",
    "plt.xlabel(\"Percentile of Predicted Probabilities\")\n",
    "plt.ylabel(\"Lift\")\n",
    "plt.title(\"Lift Curve\")\n",
    "plt.grid(True)\n",
    "plt.show()"
   ]
  },
  {
   "cell_type": "markdown",
   "id": "7124a854-13a5-4273-9a20-42be31ec8447",
   "metadata": {},
   "source": [
    "### Lift Curve Interpretation"
   ]
  },
  {
   "cell_type": "markdown",
   "id": "e463b2b8-0f05-4acf-921b-db24774f8504",
   "metadata": {},
   "source": [
    "When examining the lift curve, the model achieves a lift of approximately 2.72, meaning it is 2.72 times more effective at identifying positive cases (e.g., malignant tumors) than random guessing. This demonstrates that the model is highly reliable in distinguishing between benign and malignant cases, especially in the top-ranked predictions.\n",
    "\n",
    "A lift greater than 1 indicates better-than-random performance, and a lift of 2.72 reflects a strong concentration of true positives in the top scoring percentile, which is crucial for prioritization in cancer detection tasks."
   ]
  }
 ],
 "metadata": {
  "kernelspec": {
   "display_name": "Python [conda env:base] *",
   "language": "python",
   "name": "conda-base-py"
  },
  "language_info": {
   "codemirror_mode": {
    "name": "ipython",
    "version": 3
   },
   "file_extension": ".py",
   "mimetype": "text/x-python",
   "name": "python",
   "nbconvert_exporter": "python",
   "pygments_lexer": "ipython3",
   "version": "3.12.7"
  }
 },
 "nbformat": 4,
 "nbformat_minor": 5
}
